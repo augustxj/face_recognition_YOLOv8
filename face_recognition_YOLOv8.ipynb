{
  "nbformat": 4,
  "nbformat_minor": 0,
  "metadata": {
    "colab": {
      "provenance": [],
      "gpuType": "V28",
      "authorship_tag": "ABX9TyN7gkzSAT/4BrHxrg21gqpC",
      "include_colab_link": true
    },
    "kernelspec": {
      "name": "python3",
      "display_name": "Python 3"
    },
    "language_info": {
      "name": "python"
    },
    "accelerator": "TPU"
  },
  "cells": [
    {
      "cell_type": "markdown",
      "metadata": {
        "id": "view-in-github",
        "colab_type": "text"
      },
      "source": [
        "<a href=\"https://colab.research.google.com/github/augustxj/face_recognition_YOLOv8/blob/main/face_recognition_YOLOv8.ipynb\" target=\"_parent\"><img src=\"https://colab.research.google.com/assets/colab-badge.svg\" alt=\"Open In Colab\"/></a>"
      ]
    },
    {
      "cell_type": "markdown",
      "source": [
        "##Make sure you're running in TPU enviroment!!!!!!!!!\n"
      ],
      "metadata": {
        "id": "Go3QscbrSj3Q"
      }
    },
    {
      "cell_type": "code",
      "source": [
        "!pip install ultralytics face-recognition\n"
      ],
      "metadata": {
        "id": "W4BsaRo4UZvH",
        "colab": {
          "base_uri": "https://localhost:8080/"
        },
        "outputId": "eaa035cd-916c-43f2-a467-f19866c02a14"
      },
      "execution_count": null,
      "outputs": [
        {
          "output_type": "stream",
          "name": "stdout",
          "text": [
            "Requirement already satisfied: ultralytics in /usr/local/lib/python3.11/dist-packages (8.3.75)\n",
            "Requirement already satisfied: face-recognition in /usr/local/lib/python3.11/dist-packages (1.3.0)\n",
            "Requirement already satisfied: numpy<=2.1.1,>=1.23.0 in /usr/local/lib/python3.11/dist-packages (from ultralytics) (1.26.4)\n",
            "Requirement already satisfied: matplotlib>=3.3.0 in /usr/local/lib/python3.11/dist-packages (from ultralytics) (3.10.0)\n",
            "Requirement already satisfied: opencv-python>=4.6.0 in /usr/local/lib/python3.11/dist-packages (from ultralytics) (4.11.0.86)\n",
            "Requirement already satisfied: pillow>=7.1.2 in /usr/local/lib/python3.11/dist-packages (from ultralytics) (11.1.0)\n",
            "Requirement already satisfied: pyyaml>=5.3.1 in /usr/local/lib/python3.11/dist-packages (from ultralytics) (6.0.2)\n",
            "Requirement already satisfied: requests>=2.23.0 in /usr/local/lib/python3.11/dist-packages (from ultralytics) (2.32.3)\n",
            "Requirement already satisfied: scipy>=1.4.1 in /usr/local/lib/python3.11/dist-packages (from ultralytics) (1.13.1)\n",
            "Requirement already satisfied: torch>=1.8.0 in /usr/local/lib/python3.11/dist-packages (from ultralytics) (2.5.1+cpu)\n",
            "Requirement already satisfied: torchvision>=0.9.0 in /usr/local/lib/python3.11/dist-packages (from ultralytics) (0.20.1+cpu)\n",
            "Requirement already satisfied: tqdm>=4.64.0 in /usr/local/lib/python3.11/dist-packages (from ultralytics) (4.67.1)\n",
            "Requirement already satisfied: psutil in /usr/local/lib/python3.11/dist-packages (from ultralytics) (5.9.5)\n",
            "Requirement already satisfied: py-cpuinfo in /usr/local/lib/python3.11/dist-packages (from ultralytics) (9.0.0)\n",
            "Requirement already satisfied: pandas>=1.1.4 in /usr/local/lib/python3.11/dist-packages (from ultralytics) (2.2.2)\n",
            "Requirement already satisfied: seaborn>=0.11.0 in /usr/local/lib/python3.11/dist-packages (from ultralytics) (0.13.2)\n",
            "Requirement already satisfied: ultralytics-thop>=2.0.0 in /usr/local/lib/python3.11/dist-packages (from ultralytics) (2.0.14)\n",
            "Requirement already satisfied: face-recognition-models>=0.3.0 in /usr/local/lib/python3.11/dist-packages (from face-recognition) (0.3.0)\n",
            "Requirement already satisfied: Click>=6.0 in /usr/local/lib/python3.11/dist-packages (from face-recognition) (8.1.8)\n",
            "Requirement already satisfied: dlib>=19.7 in /usr/local/lib/python3.11/dist-packages (from face-recognition) (19.24.6)\n",
            "Requirement already satisfied: contourpy>=1.0.1 in /usr/local/lib/python3.11/dist-packages (from matplotlib>=3.3.0->ultralytics) (1.3.1)\n",
            "Requirement already satisfied: cycler>=0.10 in /usr/local/lib/python3.11/dist-packages (from matplotlib>=3.3.0->ultralytics) (0.12.1)\n",
            "Requirement already satisfied: fonttools>=4.22.0 in /usr/local/lib/python3.11/dist-packages (from matplotlib>=3.3.0->ultralytics) (4.56.0)\n",
            "Requirement already satisfied: kiwisolver>=1.3.1 in /usr/local/lib/python3.11/dist-packages (from matplotlib>=3.3.0->ultralytics) (1.4.8)\n",
            "Requirement already satisfied: packaging>=20.0 in /usr/local/lib/python3.11/dist-packages (from matplotlib>=3.3.0->ultralytics) (24.2)\n",
            "Requirement already satisfied: pyparsing>=2.3.1 in /usr/local/lib/python3.11/dist-packages (from matplotlib>=3.3.0->ultralytics) (3.2.1)\n",
            "Requirement already satisfied: python-dateutil>=2.7 in /usr/local/lib/python3.11/dist-packages (from matplotlib>=3.3.0->ultralytics) (2.9.0.post0)\n",
            "Requirement already satisfied: pytz>=2020.1 in /usr/local/lib/python3.11/dist-packages (from pandas>=1.1.4->ultralytics) (2025.1)\n",
            "Requirement already satisfied: tzdata>=2022.7 in /usr/local/lib/python3.11/dist-packages (from pandas>=1.1.4->ultralytics) (2025.1)\n",
            "Requirement already satisfied: charset-normalizer<4,>=2 in /usr/local/lib/python3.11/dist-packages (from requests>=2.23.0->ultralytics) (3.4.1)\n",
            "Requirement already satisfied: idna<4,>=2.5 in /usr/local/lib/python3.11/dist-packages (from requests>=2.23.0->ultralytics) (3.10)\n",
            "Requirement already satisfied: urllib3<3,>=1.21.1 in /usr/local/lib/python3.11/dist-packages (from requests>=2.23.0->ultralytics) (2.3.0)\n",
            "Requirement already satisfied: certifi>=2017.4.17 in /usr/local/lib/python3.11/dist-packages (from requests>=2.23.0->ultralytics) (2025.1.31)\n",
            "Requirement already satisfied: filelock in /usr/local/lib/python3.11/dist-packages (from torch>=1.8.0->ultralytics) (3.17.0)\n",
            "Requirement already satisfied: typing-extensions>=4.8.0 in /usr/local/lib/python3.11/dist-packages (from torch>=1.8.0->ultralytics) (4.12.2)\n",
            "Requirement already satisfied: networkx in /usr/local/lib/python3.11/dist-packages (from torch>=1.8.0->ultralytics) (3.4.2)\n",
            "Requirement already satisfied: jinja2 in /usr/local/lib/python3.11/dist-packages (from torch>=1.8.0->ultralytics) (3.1.5)\n",
            "Requirement already satisfied: fsspec in /usr/local/lib/python3.11/dist-packages (from torch>=1.8.0->ultralytics) (2025.2.0)\n",
            "Requirement already satisfied: sympy==1.13.1 in /usr/local/lib/python3.11/dist-packages (from torch>=1.8.0->ultralytics) (1.13.1)\n",
            "Requirement already satisfied: mpmath<1.4,>=1.1.0 in /usr/local/lib/python3.11/dist-packages (from sympy==1.13.1->torch>=1.8.0->ultralytics) (1.3.0)\n",
            "Requirement already satisfied: six>=1.5 in /usr/local/lib/python3.11/dist-packages (from python-dateutil>=2.7->matplotlib>=3.3.0->ultralytics) (1.17.0)\n",
            "Requirement already satisfied: MarkupSafe>=2.0 in /usr/local/lib/python3.11/dist-packages (from jinja2->torch>=1.8.0->ultralytics) (3.0.2)\n"
          ]
        }
      ]
    },
    {
      "cell_type": "code",
      "execution_count": null,
      "metadata": {
        "id": "DrAPKQCblhGC"
      },
      "outputs": [],
      "source": [
        "import face_recognition\n",
        "import numpy as np\n",
        "import cv2\n",
        "import os\n",
        "\n",
        "from google.colab.patches import cv2_imshow\n",
        "from ultralytics import YOLO"
      ]
    },
    {
      "cell_type": "code",
      "source": [
        "# setting YOLO model\n",
        "model = YOLO('yolov8n.pt')"
      ],
      "metadata": {
        "id": "GIsh4scvwCG4"
      },
      "execution_count": null,
      "outputs": []
    },
    {
      "cell_type": "markdown",
      "source": [
        "###Handling the images"
      ],
      "metadata": {
        "id": "QDX2qLE5wQV_"
      }
    },
    {
      "cell_type": "code",
      "execution_count": null,
      "metadata": {
        "id": "P_y9icDMhykt"
      },
      "outputs": [],
      "source": [
        "'''Make sure the name of the images ARE THE LABELS OF IT. Ex: Elvis.png'''\n",
        "#creating the base folder\n",
        "data = 'labels' #naming the folder\n",
        "os.makedirs(data, exist_ok=True) #creating the folder\n",
        "\n",
        "#get the images\n",
        "!wget -O {data}/sherlock.jpg https://ichef.bbci.co.uk/images/ic/1920x1080/p01pw5gv.jpg\n",
        "!wget -O {data}/watson.png https://static.wikia.nocookie.net/p__/images/2/21/John_Watson-_Martin_Freeman.png/revision/latest?cb=20150522195709&path-prefix=protagonist\n",
        "print(\"Images saved in:\", data)\n",
        "\n",
        "'''if you wish to use images from your own device, delete ONLY the !wget lines above and uncomment the lines below:\n",
        "'''\n",
        "#from google.colab import files\n",
        "#import shutil\n",
        "#uploaded = files.upload()\n",
        "#for filename in uploaded.keys():\n",
        "    #shutil.move(filename, os.path.join(data, filename))\n",
        "#print(\"Images saved in:\", data)\n",
        "\n",
        "known_face_encodings = []\n",
        "known_face_names = []"
      ]
    },
    {
      "cell_type": "code",
      "execution_count": null,
      "metadata": {
        "id": "QO4-lBbyiDT7"
      },
      "outputs": [],
      "source": [
        "# Load know images\n",
        "def detect_know_faces(directory):\n",
        "    # Iterate through all images in the folder\n",
        "    for filename in os.listdir(directory):\n",
        "        if filename.lower().endswith(('.jpg', '.jpeg', '.png', '.webp')):\n",
        "            image_path = os.path.join(directory, filename)\n",
        "            image = face_recognition.load_image_file(image_path)\n",
        "            face_encodings = face_recognition.face_encodings(image)\n",
        "\n",
        "            if face_encodings:\n",
        "                known_face_encodings.append(face_encodings[0])\n",
        "\n",
        "                # using the file name as the person's name\n",
        "                name = os.path.splitext(filename)[0]\n",
        "                known_face_names.append(name)\n",
        "\n",
        "    print(f\"{len(data)} images loaded. {len(known_face_encodings)} faces recognized.\")\n",
        "\n",
        "def recognize_faces(image_path):\n",
        "    for filename in os.listdir(image_path):\n",
        "        file_path = os.path.join(image_path, filename)  # Full image path\n",
        "\n",
        "        # Verify if it's an image\n",
        "        if not filename.lower().endswith(('.jpg', '.jpeg', '.png', '.webp')):\n",
        "            continue\n",
        "\n",
        "        # Load the image\n",
        "        image_to_recognize = face_recognition.load_image_file(file_path)\n",
        "        rgb_image = cv2.cvtColor(image_to_recognize, cv2.COLOR_BGR2RGB)\n",
        "\n",
        "        # Detect faces\n",
        "        face_locations = face_recognition.face_locations(rgb_image)\n",
        "        face_encodings_to_check = face_recognition.face_encodings(rgb_image, face_locations)\n",
        "\n",
        "        # Error Handling\n",
        "        if not known_face_encodings:\n",
        "            raise ValueError(f\"No faces were found in the folder {image_path}. \"\n",
        "                             \"Make sure the reference images contain visible faces.\")\n",
        "\n",
        "        recognized_names = []\n",
        "\n",
        "        # Process image\n",
        "        for (top, right, bottom, left), face_encoding in zip(face_locations, face_encodings_to_check):\n",
        "            # Verify matches\n",
        "            matches = face_recognition.compare_faces(known_face_encodings, face_encoding)\n",
        "            name = \"Unknown\"\n",
        "\n",
        "            if any(matches):  # Check if there are any matches\n",
        "                face_distances = face_recognition.face_distance(known_face_encodings, face_encoding)\n",
        "                best_match_index = np.argmin(face_distances)\n",
        "                if matches[best_match_index]:\n",
        "                    name = known_face_names[best_match_index]\n",
        "\n",
        "            recognized_names.append(name)\n",
        "\n",
        "            # Draw rectangle and label\n",
        "            cv2.rectangle(rgb_image, (left, top), (right, bottom), (0, 255, 0), 2)\n",
        "            cv2.putText(rgb_image, name, (left, top - 10), cv2.FONT_HERSHEY_SIMPLEX, 0.9, (0, 255, 0), 2)\n",
        "\n",
        "        # Reduce the image size for display\n",
        "        scale_percent = 50  # Percentage of the original size\n",
        "        width = int(rgb_image.shape[1] * scale_percent / 100)\n",
        "        height = int(rgb_image.shape[0] * scale_percent / 100)\n",
        "        dim = (width, height)\n",
        "\n",
        "        resized_image = cv2.resize(rgb_image, dim, interpolation=cv2.INTER_AREA)\n",
        "\n",
        "        # Print recognized names\n",
        "        unique_names = set(recognized_names)  # Remove duplicates\n",
        "        if \"Unknown\" in unique_names and len(unique_names) == 1:\n",
        "            print(f\"No recognized faces in {filename}.\")\n",
        "        else:\n",
        "            print(f\"Recognized persons in {filename}: {', '.join(unique_names)}\")\n",
        "\n",
        "        # Display the image\n",
        "        cv2_imshow(resized_image)"
      ]
    },
    {
      "cell_type": "code",
      "source": [
        "detect_know_faces(data)"
      ],
      "metadata": {
        "id": "_b2av0WAoZS7"
      },
      "execution_count": null,
      "outputs": []
    },
    {
      "cell_type": "code",
      "source": [
        "# Creating the test folder\n",
        "test = 'test images'\n",
        "os.makedirs(test, exist_ok=True)\n",
        "\n",
        "#loading the images\n",
        "!wget -P {test} https://s.yimg.com/ny/api/res/1.2/qCHpM43J7GVlXLEloCX1wg--/YXBwaWQ9aGlnaGxhbmRlcjt3PTI0MDA7aD0xNjAwO2NmPXdlYnA-/https://s.yimg.com/os/creatr-uploaded-images/2023-01/dd141390-8b6d-11ed-9b7a-5a9a507f9acb\n",
        "!wget -p {test} https://blogger.googleusercontent.com/img/b/R29vZ2xl/AVvXsEgI7C_9IXD7QNw13r6TxWmOamxduxSKComAyBlZEAEPBBPhSseipvemd0HALoCVrDLTlR-3NNKG4OInDVAnPsIyj-U6MuKZtQep5N5WA74e05fwaq5Ci5IRN1VinplcSlZ2cDZfIgFKFDY/s1600/cast+and+crew+BBC+SH+1.jpeg\n",
        "\n",
        "# Check if images exist before proceeding\n",
        "if any(fname.lower().endswith(('.png', '.jpg', '.jpeg')) for fname in os.listdir(test)):\n",
        "    recognize_faces(test)\n",
        "else:\n",
        "    print(f\"No images found in {test}. Check the URLs and try again.\")"
      ],
      "metadata": {
        "id": "cYi_baW8ZCtG"
      },
      "execution_count": null,
      "outputs": []
    }
  ]
}